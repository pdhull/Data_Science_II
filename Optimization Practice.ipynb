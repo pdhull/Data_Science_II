{
 "cells": [
  {
   "cell_type": "code",
   "execution_count": 1,
   "metadata": {},
   "outputs": [],
   "source": [
    "import pandas as pd\n",
    "import tensorflow as tf\n",
    "import numpy as np\n",
    "import matplotlib.pyplot as plt"
   ]
  },
  {
   "cell_type": "code",
   "execution_count": 2,
   "metadata": {},
   "outputs": [
    {
     "name": "stdout",
     "output_type": "stream",
     "text": [
      "Requirement already satisfied: tensorflow_datasets in /Library/Frameworks/Python.framework/Versions/3.11/lib/python3.11/site-packages (4.9.3)\n",
      "Requirement already satisfied: absl-py in /Library/Frameworks/Python.framework/Versions/3.11/lib/python3.11/site-packages (from tensorflow_datasets) (1.4.0)\n",
      "Requirement already satisfied: array-record in /Library/Frameworks/Python.framework/Versions/3.11/lib/python3.11/site-packages (from tensorflow_datasets) (0.4.1)\n",
      "Requirement already satisfied: click in /Library/Frameworks/Python.framework/Versions/3.11/lib/python3.11/site-packages (from tensorflow_datasets) (8.1.7)\n",
      "Requirement already satisfied: dm-tree in /Library/Frameworks/Python.framework/Versions/3.11/lib/python3.11/site-packages (from tensorflow_datasets) (0.1.8)\n",
      "Requirement already satisfied: etils[enp,epath,etree]>=0.9.0 in /Library/Frameworks/Python.framework/Versions/3.11/lib/python3.11/site-packages (from tensorflow_datasets) (1.5.2)\n",
      "Requirement already satisfied: numpy in /Library/Frameworks/Python.framework/Versions/3.11/lib/python3.11/site-packages (from tensorflow_datasets) (1.24.3)\n",
      "Requirement already satisfied: promise in /Library/Frameworks/Python.framework/Versions/3.11/lib/python3.11/site-packages (from tensorflow_datasets) (2.3)\n",
      "Requirement already satisfied: protobuf>=3.20 in /Library/Frameworks/Python.framework/Versions/3.11/lib/python3.11/site-packages (from tensorflow_datasets) (3.20.3)\n",
      "Requirement already satisfied: psutil in /Users/pratiksha/Library/Python/3.11/lib/python/site-packages (from tensorflow_datasets) (5.9.5)\n",
      "Requirement already satisfied: requests>=2.19.0 in /Library/Frameworks/Python.framework/Versions/3.11/lib/python3.11/site-packages (from tensorflow_datasets) (2.31.0)\n",
      "Requirement already satisfied: tensorflow-metadata in /Library/Frameworks/Python.framework/Versions/3.11/lib/python3.11/site-packages (from tensorflow_datasets) (1.14.0)\n",
      "Requirement already satisfied: termcolor in /Library/Frameworks/Python.framework/Versions/3.11/lib/python3.11/site-packages (from tensorflow_datasets) (2.3.0)\n",
      "Requirement already satisfied: toml in /Library/Frameworks/Python.framework/Versions/3.11/lib/python3.11/site-packages (from tensorflow_datasets) (0.10.2)\n",
      "Requirement already satisfied: tqdm in /Library/Frameworks/Python.framework/Versions/3.11/lib/python3.11/site-packages (from tensorflow_datasets) (4.66.1)\n",
      "Requirement already satisfied: wrapt in /Library/Frameworks/Python.framework/Versions/3.11/lib/python3.11/site-packages (from tensorflow_datasets) (1.14.1)\n",
      "Requirement already satisfied: fsspec in /Library/Frameworks/Python.framework/Versions/3.11/lib/python3.11/site-packages (from etils[enp,epath,etree]>=0.9.0->tensorflow_datasets) (2023.10.0)\n",
      "Requirement already satisfied: importlib_resources in /Library/Frameworks/Python.framework/Versions/3.11/lib/python3.11/site-packages (from etils[enp,epath,etree]>=0.9.0->tensorflow_datasets) (6.1.1)\n",
      "Requirement already satisfied: typing_extensions in /Library/Frameworks/Python.framework/Versions/3.11/lib/python3.11/site-packages (from etils[enp,epath,etree]>=0.9.0->tensorflow_datasets) (4.7.1)\n",
      "Requirement already satisfied: zipp in /Library/Frameworks/Python.framework/Versions/3.11/lib/python3.11/site-packages (from etils[enp,epath,etree]>=0.9.0->tensorflow_datasets) (3.17.0)\n",
      "Requirement already satisfied: charset-normalizer<4,>=2 in /Library/Frameworks/Python.framework/Versions/3.11/lib/python3.11/site-packages (from requests>=2.19.0->tensorflow_datasets) (3.3.2)\n",
      "Requirement already satisfied: idna<4,>=2.5 in /Library/Frameworks/Python.framework/Versions/3.11/lib/python3.11/site-packages (from requests>=2.19.0->tensorflow_datasets) (3.4)\n",
      "Requirement already satisfied: urllib3<3,>=1.21.1 in /Library/Frameworks/Python.framework/Versions/3.11/lib/python3.11/site-packages (from requests>=2.19.0->tensorflow_datasets) (2.0.7)\n",
      "Requirement already satisfied: certifi>=2017.4.17 in /Library/Frameworks/Python.framework/Versions/3.11/lib/python3.11/site-packages (from requests>=2.19.0->tensorflow_datasets) (2023.5.7)\n",
      "Requirement already satisfied: six in /Users/pratiksha/Library/Python/3.11/lib/python/site-packages (from promise->tensorflow_datasets) (1.16.0)\n",
      "Requirement already satisfied: googleapis-common-protos<2,>=1.52.0 in /Library/Frameworks/Python.framework/Versions/3.11/lib/python3.11/site-packages (from tensorflow-metadata->tensorflow_datasets) (1.61.0)\n",
      "\n",
      "\u001b[1m[\u001b[0m\u001b[34;49mnotice\u001b[0m\u001b[1;39;49m]\u001b[0m\u001b[39;49m A new release of pip is available: \u001b[0m\u001b[31;49m23.1.2\u001b[0m\u001b[39;49m -> \u001b[0m\u001b[32;49m23.3.1\u001b[0m\n",
      "\u001b[1m[\u001b[0m\u001b[34;49mnotice\u001b[0m\u001b[1;39;49m]\u001b[0m\u001b[39;49m To update, run: \u001b[0m\u001b[32;49mpip3 install --upgrade pip\u001b[0m\n",
      "Note: you may need to restart the kernel to use updated packages.\n"
     ]
    }
   ],
   "source": [
    "pip install tensorflow_datasets"
   ]
  },
  {
   "cell_type": "code",
   "execution_count": 3,
   "metadata": {},
   "outputs": [
    {
     "name": "stderr",
     "output_type": "stream",
     "text": [
      "/Library/Frameworks/Python.framework/Versions/3.11/lib/python3.11/site-packages/tqdm/auto.py:21: TqdmWarning: IProgress not found. Please update jupyter and ipywidgets. See https://ipywidgets.readthedocs.io/en/stable/user_install.html\n",
      "  from .autonotebook import tqdm as notebook_tqdm\n"
     ]
    }
   ],
   "source": [
    "import tensorflow_datasets as tfds"
   ]
  },
  {
   "cell_type": "code",
   "execution_count": 4,
   "metadata": {},
   "outputs": [],
   "source": [
    "(train, test) = tfds.load('mnist',split=['train','test'])"
   ]
  },
  {
   "cell_type": "code",
   "execution_count": 5,
   "metadata": {},
   "outputs": [
    {
     "data": {
      "text/plain": [
       "<_PrefetchDataset element_spec={'image': TensorSpec(shape=(28, 28, 1), dtype=tf.uint8, name=None), 'label': TensorSpec(shape=(), dtype=tf.int64, name=None)}>"
      ]
     },
     "execution_count": 5,
     "metadata": {},
     "output_type": "execute_result"
    }
   ],
   "source": [
    "train"
   ]
  },
  {
   "cell_type": "code",
   "execution_count": 6,
   "metadata": {},
   "outputs": [
    {
     "data": {
      "text/plain": [
       "<_PrefetchDataset element_spec={'image': TensorSpec(shape=(28, 28, 1), dtype=tf.uint8, name=None), 'label': TensorSpec(shape=(), dtype=tf.int64, name=None)}>"
      ]
     },
     "execution_count": 6,
     "metadata": {},
     "output_type": "execute_result"
    }
   ],
   "source": [
    "test"
   ]
  },
  {
   "cell_type": "code",
   "execution_count": 7,
   "metadata": {},
   "outputs": [],
   "source": [
    "from sklearn.preprocessing import StandardScaler, OneHotEncoder"
   ]
  },
  {
   "cell_type": "code",
   "execution_count": 8,
   "metadata": {},
   "outputs": [],
   "source": [
    "def load_dataset(train_size,test_size):\n",
    "    train, test = tf.keras.datasets.mnist.load_data()\n",
    "    #take a sample\n",
    "    train_idx = np.random.randint(low=0,high=train[0].shape[0],size=train_size)\n",
    "    test_idx = np.random.randint(low=0,high=test[0].shape[0],size=test_size)\n",
    "    X_train = train[0][train_idx].reshape(-1,28*28)\n",
    "    y_train = train[1][train_idx].reshape(-1,1)\n",
    "    X_test = test[0][test_idx].reshape(-1,28*28)\n",
    "    y_test = test[1][test_idx].reshape(-1,1)\n",
    "    \n",
    "    scale = StandardScaler()\n",
    "    X_train = scale.fit_transform(X_train)\n",
    "    X_test = scale.transform(X_test)\n",
    "\n",
    "    OH = OneHotEncoder(categories='auto', sparse=False)\n",
    "    y_train = OH.fit_transform(y_train)\n",
    "    y_test = OH.transform(y_test)\n",
    "    \n",
    "    print('X_train:',X_train.shape)\n",
    "    print('y_train:',y_train.shape)\n",
    "    print('X_test:',X_test.shape)\n",
    "    print('y_test:',y_test.shape)\n",
    "    print('Min:', X_train.min())\n",
    "    print('Max:', X_train.max())\n",
    "\n",
    "    return X_train, X_test, y_train, y_test"
   ]
  },
  {
   "cell_type": "code",
   "execution_count": 9,
   "metadata": {},
   "outputs": [
    {
     "name": "stdout",
     "output_type": "stream",
     "text": [
      "X_train: (60000, 784)\n",
      "y_train: (60000, 10)\n",
      "X_test: (10000, 784)\n",
      "y_test: (10000, 10)\n",
      "Min: -1.2719725258483647\n",
      "Max: 244.94693302873148\n"
     ]
    },
    {
     "name": "stderr",
     "output_type": "stream",
     "text": [
      "/Library/Frameworks/Python.framework/Versions/3.11/lib/python3.11/site-packages/sklearn/preprocessing/_encoders.py:868: FutureWarning: `sparse` was renamed to `sparse_output` in version 1.2 and will be removed in 1.4. `sparse_output` is ignored unless you leave `sparse` to its default value.\n",
      "  warnings.warn(\n"
     ]
    }
   ],
   "source": [
    "X_train, X_test, y_train, y_test = load_dataset(60000,10000)"
   ]
  },
  {
   "attachments": {},
   "cell_type": "markdown",
   "metadata": {},
   "source": [
    "#### Optimizing at the Initialization Stage"
   ]
  },
  {
   "cell_type": "code",
   "execution_count": 10,
   "metadata": {},
   "outputs": [
    {
     "name": "stderr",
     "output_type": "stream",
     "text": [
      "WARNING:absl:At this time, the v2.11+ optimizer `tf.keras.optimizers.SGD` runs slowly on M1/M2 Macs, please use the legacy Keras optimizer instead, located at `tf.keras.optimizers.legacy.SGD`.\n"
     ]
    }
   ],
   "source": [
    "init = tf.initializers.zeros()\n",
    "activate = 'relu'\n",
    "\n",
    "optimizer = tf.keras.optimizers.SGD(learning_rate=0.01)"
   ]
  },
  {
   "cell_type": "code",
   "execution_count": 11,
   "metadata": {},
   "outputs": [],
   "source": [
    "from tensorflow.keras import layers"
   ]
  },
  {
   "cell_type": "code",
   "execution_count": 12,
   "metadata": {},
   "outputs": [],
   "source": [
    "def simple_model(initializer, activation = 'relu'):\n",
    "    return tf.keras.Sequential([layers.Dense(32,activation, input_shape=(784,), kernel_initializer=initializer),\n",
    "                                layers.Dense(32,activation, input_shape=(784,), kernel_initializer=initializer),\n",
    "                                layers.Dense(32,activation, input_shape=(784,), kernel_initializer=initializer),\n",
    "                                layers.Dense(32,activation, input_shape=(784,), kernel_initializer=initializer),\n",
    "                                layers.Dense(10,activation='softmax',kernel_initializer = tf.keras.initializers.glorot_normal())])"
   ]
  },
  {
   "cell_type": "code",
   "execution_count": 13,
   "metadata": {},
   "outputs": [
    {
     "name": "stderr",
     "output_type": "stream",
     "text": [
      "WARNING:absl:At this time, the v2.11+ optimizer `tf.keras.optimizers.SGD` runs slowly on M1/M2 Macs, please use the legacy Keras optimizer instead, located at `tf.keras.optimizers.legacy.SGD`.\n"
     ]
    }
   ],
   "source": [
    "init = tf.initializers.zeros()\n",
    "activate = 'relu'\n",
    "optimizer = tf.keras.optimizers.SGD(learning_rate=0.01)"
   ]
  },
  {
   "cell_type": "code",
   "execution_count": 14,
   "metadata": {},
   "outputs": [],
   "source": [
    "model_zeros = simple_model(init, activate)"
   ]
  },
  {
   "cell_type": "code",
   "execution_count": 15,
   "metadata": {},
   "outputs": [
    {
     "name": "stdout",
     "output_type": "stream",
     "text": [
      "Epoch 1/10\n",
      "19/19 [==============================] - 1s 13ms/step - loss: 2.3026 - accuracy: 0.1119 - val_loss: 2.3025 - val_accuracy: 0.1095\n",
      "Epoch 2/10\n",
      "19/19 [==============================] - 0s 5ms/step - loss: 2.3025 - accuracy: 0.1126 - val_loss: 2.3025 - val_accuracy: 0.1095\n",
      "Epoch 3/10\n",
      "19/19 [==============================] - 0s 6ms/step - loss: 2.3024 - accuracy: 0.1126 - val_loss: 2.3024 - val_accuracy: 0.1095\n",
      "Epoch 4/10\n",
      "19/19 [==============================] - 0s 5ms/step - loss: 2.3024 - accuracy: 0.1126 - val_loss: 2.3024 - val_accuracy: 0.1095\n",
      "Epoch 5/10\n",
      "19/19 [==============================] - 0s 5ms/step - loss: 2.3023 - accuracy: 0.1126 - val_loss: 2.3023 - val_accuracy: 0.1095\n",
      "Epoch 6/10\n",
      "19/19 [==============================] - 0s 5ms/step - loss: 2.3023 - accuracy: 0.1126 - val_loss: 2.3023 - val_accuracy: 0.1095\n",
      "Epoch 7/10\n",
      "19/19 [==============================] - 0s 6ms/step - loss: 2.3022 - accuracy: 0.1126 - val_loss: 2.3023 - val_accuracy: 0.1095\n",
      "Epoch 8/10\n",
      "19/19 [==============================] - 0s 6ms/step - loss: 2.3022 - accuracy: 0.1126 - val_loss: 2.3022 - val_accuracy: 0.1095\n",
      "Epoch 9/10\n",
      "19/19 [==============================] - 0s 6ms/step - loss: 2.3021 - accuracy: 0.1126 - val_loss: 2.3022 - val_accuracy: 0.1095\n",
      "Epoch 10/10\n",
      "19/19 [==============================] - 0s 6ms/step - loss: 2.3021 - accuracy: 0.1126 - val_loss: 2.3022 - val_accuracy: 0.1095\n"
     ]
    },
    {
     "data": {
      "text/plain": [
       "<keras.src.callbacks.History at 0x2a0378210>"
      ]
     },
     "execution_count": 15,
     "metadata": {},
     "output_type": "execute_result"
    }
   ],
   "source": [
    "model_zeros.compile(optimizer=optimizer,loss='categorical_crossentropy',metrics=['accuracy'])\n",
    "model_zeros.fit(X_train, y_train, epochs=10, batch_size=3200, validation_data=(X_test, y_test))"
   ]
  },
  {
   "cell_type": "code",
   "execution_count": 16,
   "metadata": {},
   "outputs": [
    {
     "name": "stderr",
     "output_type": "stream",
     "text": [
      "WARNING:absl:At this time, the v2.11+ optimizer `tf.keras.optimizers.SGD` runs slowly on M1/M2 Macs, please use the legacy Keras optimizer instead, located at `tf.keras.optimizers.legacy.SGD`.\n",
      "/Library/Frameworks/Python.framework/Versions/3.11/lib/python3.11/site-packages/keras/src/initializers/initializers.py:120: UserWarning: The initializer RandomNormal is unseeded and being called multiple times, which will return identical values each time (even if the initializer is unseeded). Please update your code to provide a seed to the initializer, or avoid using the same initializer instance more than once.\n",
      "  warnings.warn(\n"
     ]
    },
    {
     "name": "stdout",
     "output_type": "stream",
     "text": [
      "Epoch 1/10\n",
      "19/19 [==============================] - 0s 11ms/step - loss: 2.3023 - accuracy: 0.1111 - val_loss: 2.3019 - val_accuracy: 0.1310\n",
      "Epoch 2/10\n",
      "19/19 [==============================] - 0s 5ms/step - loss: 2.3018 - accuracy: 0.1326 - val_loss: 2.3015 - val_accuracy: 0.1313\n",
      "Epoch 3/10\n",
      "19/19 [==============================] - 0s 5ms/step - loss: 2.3014 - accuracy: 0.1325 - val_loss: 2.3011 - val_accuracy: 0.1246\n",
      "Epoch 4/10\n",
      "19/19 [==============================] - 0s 6ms/step - loss: 2.3010 - accuracy: 0.1290 - val_loss: 2.3008 - val_accuracy: 0.1223\n",
      "Epoch 5/10\n",
      "19/19 [==============================] - 0s 6ms/step - loss: 2.3007 - accuracy: 0.1277 - val_loss: 2.3004 - val_accuracy: 0.1215\n",
      "Epoch 6/10\n",
      "19/19 [==============================] - 0s 6ms/step - loss: 2.3004 - accuracy: 0.1260 - val_loss: 2.3001 - val_accuracy: 0.1195\n",
      "Epoch 7/10\n",
      "19/19 [==============================] - 0s 5ms/step - loss: 2.3000 - accuracy: 0.1252 - val_loss: 2.2998 - val_accuracy: 0.1191\n",
      "Epoch 8/10\n",
      "19/19 [==============================] - 0s 6ms/step - loss: 2.2997 - accuracy: 0.1245 - val_loss: 2.2995 - val_accuracy: 0.1183\n",
      "Epoch 9/10\n",
      "19/19 [==============================] - 0s 6ms/step - loss: 2.2994 - accuracy: 0.1243 - val_loss: 2.2992 - val_accuracy: 0.1185\n",
      "Epoch 10/10\n",
      "19/19 [==============================] - 0s 6ms/step - loss: 2.2991 - accuracy: 0.1239 - val_loss: 2.2989 - val_accuracy: 0.1183\n"
     ]
    },
    {
     "data": {
      "text/plain": [
       "<keras.src.callbacks.History at 0x2a0382150>"
      ]
     },
     "execution_count": 16,
     "metadata": {},
     "output_type": "execute_result"
    }
   ],
   "source": [
    "init = tf.initializers.random_normal()\n",
    "activate = 'relu'\n",
    "optimizer = tf.keras.optimizers.SGD(learning_rate=0.01)\n",
    "model_normal = simple_model(init, activate)\n",
    "model_normal.compile(optimizer=optimizer, loss='categorical_crossentropy', metrics=['accuracy'])\n",
    "model_normal.fit(X_train, y_train, epochs=10, batch_size=3200, validation_data=(X_test, y_test))"
   ]
  },
  {
   "cell_type": "code",
   "execution_count": 17,
   "metadata": {},
   "outputs": [
    {
     "name": "stderr",
     "output_type": "stream",
     "text": [
      "WARNING:absl:At this time, the v2.11+ optimizer `tf.keras.optimizers.SGD` runs slowly on M1/M2 Macs, please use the legacy Keras optimizer instead, located at `tf.keras.optimizers.legacy.SGD`.\n",
      "/Library/Frameworks/Python.framework/Versions/3.11/lib/python3.11/site-packages/keras/src/initializers/initializers.py:120: UserWarning: The initializer GlorotUniform is unseeded and being called multiple times, which will return identical values each time (even if the initializer is unseeded). Please update your code to provide a seed to the initializer, or avoid using the same initializer instance more than once.\n",
      "  warnings.warn(\n"
     ]
    },
    {
     "name": "stdout",
     "output_type": "stream",
     "text": [
      "Epoch 1/10\n",
      "19/19 [==============================] - 1s 23ms/step - loss: 2.2831 - accuracy: 0.1446 - val_loss: 2.2621 - val_accuracy: 0.1690\n",
      "Epoch 2/10\n",
      "19/19 [==============================] - 0s 6ms/step - loss: 2.2336 - accuracy: 0.1991 - val_loss: 2.2142 - val_accuracy: 0.2275\n",
      "Epoch 3/10\n",
      "19/19 [==============================] - 0s 6ms/step - loss: 2.1852 - accuracy: 0.2592 - val_loss: 2.1647 - val_accuracy: 0.2892\n",
      "Epoch 4/10\n",
      "19/19 [==============================] - 0s 6ms/step - loss: 2.1333 - accuracy: 0.3141 - val_loss: 2.1097 - val_accuracy: 0.3398\n",
      "Epoch 5/10\n",
      "19/19 [==============================] - 0s 5ms/step - loss: 2.0744 - accuracy: 0.3600 - val_loss: 2.0470 - val_accuracy: 0.3768\n",
      "Epoch 6/10\n",
      "19/19 [==============================] - 0s 5ms/step - loss: 2.0066 - accuracy: 0.3983 - val_loss: 1.9755 - val_accuracy: 0.4056\n",
      "Epoch 7/10\n",
      "19/19 [==============================] - 0s 6ms/step - loss: 1.9297 - accuracy: 0.4229 - val_loss: 1.8959 - val_accuracy: 0.4253\n",
      "Epoch 8/10\n",
      "19/19 [==============================] - 0s 6ms/step - loss: 1.8453 - accuracy: 0.4411 - val_loss: 1.8110 - val_accuracy: 0.4403\n",
      "Epoch 9/10\n",
      "19/19 [==============================] - 0s 6ms/step - loss: 1.7577 - accuracy: 0.4570 - val_loss: 1.7253 - val_accuracy: 0.4594\n",
      "Epoch 10/10\n",
      "19/19 [==============================] - 0s 6ms/step - loss: 1.6725 - accuracy: 0.4722 - val_loss: 1.6442 - val_accuracy: 0.4788\n"
     ]
    },
    {
     "data": {
      "text/plain": [
       "<keras.src.callbacks.History at 0x2a0721fd0>"
      ]
     },
     "execution_count": 17,
     "metadata": {},
     "output_type": "execute_result"
    }
   ],
   "source": [
    "init = tf.initializers.glorot_uniform()\n",
    "activate = 'relu'\n",
    "optimizer = tf.keras.optimizers.SGD(learning_rate=0.01)\n",
    "model_glorotu = simple_model(init, activate)\n",
    "model_glorotu.compile(optimizer=optimizer, loss='categorical_crossentropy', metrics=['accuracy'])\n",
    "model_glorotu.fit(X_train, y_train, epochs=10, batch_size=3200, validation_data=(X_test, y_test))"
   ]
  },
  {
   "cell_type": "code",
   "execution_count": 18,
   "metadata": {},
   "outputs": [
    {
     "name": "stderr",
     "output_type": "stream",
     "text": [
      "WARNING:absl:At this time, the v2.11+ optimizer `tf.keras.optimizers.SGD` runs slowly on M1/M2 Macs, please use the legacy Keras optimizer instead, located at `tf.keras.optimizers.legacy.SGD`.\n",
      "/Library/Frameworks/Python.framework/Versions/3.11/lib/python3.11/site-packages/keras/src/initializers/initializers.py:120: UserWarning: The initializer HeUniform is unseeded and being called multiple times, which will return identical values each time (even if the initializer is unseeded). Please update your code to provide a seed to the initializer, or avoid using the same initializer instance more than once.\n",
      "  warnings.warn(\n"
     ]
    },
    {
     "name": "stdout",
     "output_type": "stream",
     "text": [
      "Epoch 1/10\n",
      "19/19 [==============================] - 0s 12ms/step - loss: 2.4951 - accuracy: 0.1294 - val_loss: 2.2792 - val_accuracy: 0.1870\n",
      "Epoch 2/10\n",
      "19/19 [==============================] - 0s 5ms/step - loss: 2.1840 - accuracy: 0.2298 - val_loss: 2.0634 - val_accuracy: 0.2911\n",
      "Epoch 3/10\n",
      "19/19 [==============================] - 0s 6ms/step - loss: 1.9921 - accuracy: 0.3216 - val_loss: 1.8846 - val_accuracy: 0.3651\n",
      "Epoch 4/10\n",
      "19/19 [==============================] - 0s 5ms/step - loss: 1.8238 - accuracy: 0.3945 - val_loss: 1.7226 - val_accuracy: 0.4366\n",
      "Epoch 5/10\n",
      "19/19 [==============================] - 0s 5ms/step - loss: 1.6680 - accuracy: 0.4642 - val_loss: 1.5721 - val_accuracy: 0.5083\n",
      "Epoch 6/10\n",
      "19/19 [==============================] - 0s 5ms/step - loss: 1.5213 - accuracy: 0.5262 - val_loss: 1.4313 - val_accuracy: 0.5562\n",
      "Epoch 7/10\n",
      "19/19 [==============================] - 0s 5ms/step - loss: 1.3861 - accuracy: 0.5777 - val_loss: 1.3052 - val_accuracy: 0.6003\n",
      "Epoch 8/10\n",
      "19/19 [==============================] - 0s 5ms/step - loss: 1.2663 - accuracy: 0.6166 - val_loss: 1.1959 - val_accuracy: 0.6376\n",
      "Epoch 9/10\n",
      "19/19 [==============================] - 0s 5ms/step - loss: 1.1627 - accuracy: 0.6509 - val_loss: 1.1022 - val_accuracy: 0.6714\n",
      "Epoch 10/10\n",
      "19/19 [==============================] - 0s 5ms/step - loss: 1.0730 - accuracy: 0.6821 - val_loss: 1.0207 - val_accuracy: 0.6999\n"
     ]
    },
    {
     "data": {
      "text/plain": [
       "<keras.src.callbacks.History at 0x2e300e3d0>"
      ]
     },
     "execution_count": 18,
     "metadata": {},
     "output_type": "execute_result"
    }
   ],
   "source": [
    "init = tf.initializers.he_uniform()\n",
    "activate = 'relu'\n",
    "optimizer = tf.keras.optimizers.SGD(learning_rate=0.01)\n",
    "model_heu = simple_model(init, activate)\n",
    "model_heu.compile(optimizer=optimizer, loss='categorical_crossentropy', metrics=['accuracy'])\n",
    "model_heu.fit(X_train, y_train, epochs=10, batch_size=3200, validation_data=(X_test, y_test))"
   ]
  },
  {
   "cell_type": "code",
   "execution_count": 19,
   "metadata": {},
   "outputs": [
    {
     "data": {
      "text/plain": [
       "Text(0, 0.5, 'Validation Accuracy')"
      ]
     },
     "execution_count": 19,
     "metadata": {},
     "output_type": "execute_result"
    },
    {
     "data": {
      "image/png": "[encoded data removed]",
      "text/plain": [
       "<Figure size 640x480 with 1 Axes>"
      ]
     },
     "metadata": {},
     "output_type": "display_data"
    }
   ],
   "source": [
    "for i in [model_heu, model_normal, model_glorotu, model_zeros]:\n",
    "    plt.plot(i.history.history['val_accuracy'], label=i.get_config()['layers'][1]['config']['kernel_initializer']['class_name'])\n",
    "\n",
    "plt.legend()\n",
    "plt.xlabel('Epoch')\n",
    "plt.ylabel('Validation Accuracy')"
   ]
  },
  {
   "cell_type": "code",
   "execution_count": 20,
   "metadata": {},
   "outputs": [],
   "source": [
    "def simple_model_bn(initializer = 'he_uniform', activation='relu'):\n",
    "    return tf.keras.Sequential([layers.Dense(32, activation, input_shape=(784,), kernel_initializer=initializer),\n",
    "                                layers.BatchNormalization(trainable=True, scale=True, center=True),\n",
    "                                layers.Dense(32, activation, kernel_initializer=initializer),\n",
    "                                layers.BatchNormalization(trainable=True, scale=True, center=True),\n",
    "                                layers.Dense(32, activation, kernel_initializer=initializer),\n",
    "                                layers.BatchNormalization(trainable=True, scale=True, center=True),\n",
    "                                layers.Dense(32, activation, kernel_initializer=initializer),\n",
    "                                layers.BatchNormalization(trainable=True, scale=True, center=True),\n",
    "                                layers.Dense(10, activation = 'softmax', kernel_initializer=tf.keras.initializers.glorot_normal())\n",
    "\n",
    "\n",
    "\n",
    "    ])\n"
   ]
  },
  {
   "cell_type": "code",
   "execution_count": 21,
   "metadata": {},
   "outputs": [
    {
     "name": "stdout",
     "output_type": "stream",
     "text": [
      "Model: \"sequential_4\"\n",
      "_________________________________________________________________\n",
      " Layer (type)                Output Shape              Param #   \n",
      "=================================================================\n",
      " dense_20 (Dense)            (None, 32)                25120     \n",
      "                                                                 \n",
      " batch_normalization (Batch  (None, 32)                128       \n",
      " Normalization)                                                  \n",
      "                                                                 \n",
      " dense_21 (Dense)            (None, 32)                1056      \n",
      "                                                                 \n",
      " batch_normalization_1 (Bat  (None, 32)                128       \n",
      " chNormalization)                                                \n",
      "                                                                 \n",
      " dense_22 (Dense)            (None, 32)                1056      \n",
      "                                                                 \n",
      " batch_normalization_2 (Bat  (None, 32)                128       \n",
      " chNormalization)                                                \n",
      "                                                                 \n",
      " dense_23 (Dense)            (None, 32)                1056      \n",
      "                                                                 \n",
      " batch_normalization_3 (Bat  (None, 32)                128       \n",
      " chNormalization)                                                \n",
      "                                                                 \n",
      " dense_24 (Dense)            (None, 10)                330       \n",
      "                                                                 \n",
      "=================================================================\n",
      "Total params: 29130 (113.79 KB)\n",
      "Trainable params: 28874 (112.79 KB)\n",
      "Non-trainable params: 256 (1.00 KB)\n",
      "_________________________________________________________________\n"
     ]
    }
   ],
   "source": [
    "simple_model_bn().summary()"
   ]
  },
  {
   "cell_type": "code",
   "execution_count": 22,
   "metadata": {},
   "outputs": [
    {
     "name": "stderr",
     "output_type": "stream",
     "text": [
      "WARNING:absl:At this time, the v2.11+ optimizer `tf.keras.optimizers.SGD` runs slowly on M1/M2 Macs, please use the legacy Keras optimizer instead, located at `tf.keras.optimizers.legacy.SGD`.\n",
      "/Library/Frameworks/Python.framework/Versions/3.11/lib/python3.11/site-packages/keras/src/initializers/initializers.py:120: UserWarning: The initializer RandomNormal is unseeded and being called multiple times, which will return identical values each time (even if the initializer is unseeded). Please update your code to provide a seed to the initializer, or avoid using the same initializer instance more than once.\n",
      "  warnings.warn(\n"
     ]
    },
    {
     "name": "stdout",
     "output_type": "stream",
     "text": [
      "Epoch 1/10\n",
      "19/19 [==============================] - 1s 16ms/step - loss: 2.0388 - accuracy: 0.3216 - val_loss: 2.2964 - val_accuracy: 0.1593\n",
      "Epoch 2/10\n",
      "19/19 [==============================] - 0s 7ms/step - loss: 1.3388 - accuracy: 0.5782 - val_loss: 2.2859 - val_accuracy: 0.1933\n",
      "Epoch 3/10\n",
      "19/19 [==============================] - 0s 7ms/step - loss: 1.0617 - accuracy: 0.6805 - val_loss: 2.2717 - val_accuracy: 0.2066\n",
      "Epoch 4/10\n",
      "19/19 [==============================] - 0s 7ms/step - loss: 0.8943 - accuracy: 0.7395 - val_loss: 2.2527 - val_accuracy: 0.2297\n",
      "Epoch 5/10\n",
      "19/19 [==============================] - 0s 7ms/step - loss: 0.7860 - accuracy: 0.7741 - val_loss: 2.2276 - val_accuracy: 0.2664\n",
      "Epoch 6/10\n",
      "19/19 [==============================] - 0s 9ms/step - loss: 0.7063 - accuracy: 0.7986 - val_loss: 2.1950 - val_accuracy: 0.3079\n",
      "Epoch 7/10\n",
      "19/19 [==============================] - 0s 7ms/step - loss: 0.6459 - accuracy: 0.8162 - val_loss: 2.1530 - val_accuracy: 0.3570\n",
      "Epoch 8/10\n",
      "19/19 [==============================] - 0s 10ms/step - loss: 0.5975 - accuracy: 0.8305 - val_loss: 2.1002 - val_accuracy: 0.4147\n",
      "Epoch 9/10\n",
      "19/19 [==============================] - 0s 7ms/step - loss: 0.5577 - accuracy: 0.8432 - val_loss: 2.0339 - val_accuracy: 0.4780\n",
      "Epoch 10/10\n",
      "19/19 [==============================] - 0s 7ms/step - loss: 0.5240 - accuracy: 0.8540 - val_loss: 1.9532 - val_accuracy: 0.5547\n"
     ]
    },
    {
     "data": {
      "text/plain": [
       "<keras.src.callbacks.History at 0x2e51d0290>"
      ]
     },
     "execution_count": 22,
     "metadata": {},
     "output_type": "execute_result"
    }
   ],
   "source": [
    "init = tf.keras.initializers.random_normal()\n",
    "activate = 'relu'\n",
    "\n",
    "optimizer = tf.keras.optimizers.SGD(0.01)\n",
    "model_bn = simple_model_bn(init, activate)\n",
    "model_bn.compile(optimizer=optimizer, loss='categorical_crossentropy', metrics=['accuracy'])\n",
    "model_bn.fit(X_train, y_train, epochs=10, batch_size=3200, validation_data = (X_test, y_test))"
   ]
  },
  {
   "cell_type": "code",
   "execution_count": 23,
   "metadata": {},
   "outputs": [
    {
     "name": "stderr",
     "output_type": "stream",
     "text": [
      "WARNING:absl:At this time, the v2.11+ optimizer `tf.keras.optimizers.Adagrad` runs slowly on M1/M2 Macs, please use the legacy Keras optimizer instead, located at `tf.keras.optimizers.legacy.Adagrad`.\n",
      "/Library/Frameworks/Python.framework/Versions/3.11/lib/python3.11/site-packages/keras/src/initializers/initializers.py:120: UserWarning: The initializer RandomUniform is unseeded and being called multiple times, which will return identical values each time (even if the initializer is unseeded). Please update your code to provide a seed to the initializer, or avoid using the same initializer instance more than once.\n",
      "  warnings.warn(\n"
     ]
    },
    {
     "name": "stdout",
     "output_type": "stream",
     "text": [
      "Epoch 1/10\n",
      "19/19 [==============================] - 1s 15ms/step - loss: 1.1378 - accuracy: 0.6580 - val_loss: 2.2985 - val_accuracy: 0.1623\n",
      "Epoch 2/10\n",
      "19/19 [==============================] - 0s 8ms/step - loss: 0.4948 - accuracy: 0.8630 - val_loss: 2.2930 - val_accuracy: 0.2574\n",
      "Epoch 3/10\n",
      "19/19 [==============================] - 0s 7ms/step - loss: 0.3745 - accuracy: 0.8977 - val_loss: 2.2867 - val_accuracy: 0.1916\n",
      "Epoch 4/10\n",
      "19/19 [==============================] - 0s 8ms/step - loss: 0.3144 - accuracy: 0.9135 - val_loss: 2.2781 - val_accuracy: 0.2043\n",
      "Epoch 5/10\n",
      "19/19 [==============================] - 0s 8ms/step - loss: 0.2749 - accuracy: 0.9249 - val_loss: 2.2672 - val_accuracy: 0.2144\n",
      "Epoch 6/10\n",
      "19/19 [==============================] - 0s 8ms/step - loss: 0.2461 - accuracy: 0.9333 - val_loss: 2.2522 - val_accuracy: 0.2417\n",
      "Epoch 7/10\n",
      "19/19 [==============================] - 0s 9ms/step - loss: 0.2245 - accuracy: 0.9395 - val_loss: 2.2334 - val_accuracy: 0.2632\n",
      "Epoch 8/10\n",
      "19/19 [==============================] - 0s 9ms/step - loss: 0.2066 - accuracy: 0.9449 - val_loss: 2.2073 - val_accuracy: 0.3114\n",
      "Epoch 9/10\n",
      "19/19 [==============================] - 0s 8ms/step - loss: 0.1916 - accuracy: 0.9492 - val_loss: 2.1745 - val_accuracy: 0.3330\n",
      "Epoch 10/10\n",
      "19/19 [==============================] - 0s 8ms/step - loss: 0.1802 - accuracy: 0.9523 - val_loss: 2.1293 - val_accuracy: 0.3896\n"
     ]
    },
    {
     "data": {
      "text/plain": [
       "<keras.src.callbacks.History at 0x2a08bf290>"
      ]
     },
     "execution_count": 23,
     "metadata": {},
     "output_type": "execute_result"
    }
   ],
   "source": [
    "init = tf.keras.initializers.random_uniform()\n",
    "activate = 'relu'\n",
    "\n",
    "optimizer = tf.keras.optimizers.Adagrad(learning_rate=0.01)\n",
    "model_bn_ad = simple_model_bn(init, activate)\n",
    "model_bn_ad.compile(optimizer=optimizer, loss='categorical_crossentropy', metrics=['accuracy'])\n",
    "model_bn_ad.fit(X_train, y_train, epochs=10, batch_size=3200, validation_data = (X_test, y_test))"
   ]
  },
  {
   "cell_type": "code",
   "execution_count": 24,
   "metadata": {},
   "outputs": [
    {
     "name": "stderr",
     "output_type": "stream",
     "text": [
      "WARNING:absl:At this time, the v2.11+ optimizer `tf.keras.optimizers.Adam` runs slowly on M1/M2 Macs, please use the legacy Keras optimizer instead, located at `tf.keras.optimizers.legacy.Adam`.\n"
     ]
    },
    {
     "name": "stdout",
     "output_type": "stream",
     "text": [
      "Epoch 1/10\n",
      "19/19 [==============================] - 1s 17ms/step - loss: 0.9549 - accuracy: 0.7013 - val_loss: 2.0576 - val_accuracy: 0.5860\n",
      "Epoch 2/10\n",
      "19/19 [==============================] - 0s 8ms/step - loss: 0.3018 - accuracy: 0.9105 - val_loss: 1.8416 - val_accuracy: 0.5342\n",
      "Epoch 3/10\n",
      "19/19 [==============================] - 0s 7ms/step - loss: 0.1955 - accuracy: 0.9427 - val_loss: 1.6885 - val_accuracy: 0.5783\n",
      "Epoch 4/10\n",
      "19/19 [==============================] - 0s 8ms/step - loss: 0.1435 - accuracy: 0.9585 - val_loss: 1.5288 - val_accuracy: 0.6717\n",
      "Epoch 5/10\n",
      "19/19 [==============================] - 0s 8ms/step - loss: 0.1145 - accuracy: 0.9670 - val_loss: 1.3475 - val_accuracy: 0.7527\n",
      "Epoch 6/10\n",
      "19/19 [==============================] - 0s 8ms/step - loss: 0.0924 - accuracy: 0.9735 - val_loss: 1.1282 - val_accuracy: 0.8737\n",
      "Epoch 7/10\n",
      "19/19 [==============================] - 0s 9ms/step - loss: 0.0764 - accuracy: 0.9784 - val_loss: 0.9473 - val_accuracy: 0.8933\n",
      "Epoch 8/10\n",
      "19/19 [==============================] - 0s 9ms/step - loss: 0.0624 - accuracy: 0.9826 - val_loss: 0.7298 - val_accuracy: 0.9199\n",
      "Epoch 9/10\n",
      "19/19 [==============================] - 0s 9ms/step - loss: 0.0530 - accuracy: 0.9857 - val_loss: 0.5773 - val_accuracy: 0.9307\n",
      "Epoch 10/10\n",
      "19/19 [==============================] - 0s 10ms/step - loss: 0.0481 - accuracy: 0.9865 - val_loss: 0.4308 - val_accuracy: 0.9343\n"
     ]
    },
    {
     "data": {
      "text/plain": [
       "<keras.src.callbacks.History at 0x294052350>"
      ]
     },
     "execution_count": 24,
     "metadata": {},
     "output_type": "execute_result"
    }
   ],
   "source": [
    "init = tf.keras.initializers.random_uniform()\n",
    "activate = 'relu'\n",
    "\n",
    "optimizer = tf.keras.optimizers.Adam(learning_rate=0.01)\n",
    "model_bn_adam = simple_model_bn(init, activate)\n",
    "model_bn_adam.compile(optimizer=optimizer, loss='categorical_crossentropy', metrics=['accuracy'])\n",
    "model_bn_adam.fit(X_train, y_train, epochs=10, batch_size=3200, validation_data = (X_test, y_test))"
   ]
  },
  {
   "cell_type": "code",
   "execution_count": 29,
   "metadata": {},
   "outputs": [],
   "source": [
    "from tensorflow.keras.callbacks import EarlyStopping"
   ]
  },
  {
   "cell_type": "code",
   "execution_count": 30,
   "metadata": {},
   "outputs": [
    {
     "name": "stderr",
     "output_type": "stream",
     "text": [
      "WARNING:absl:At this time, the v2.11+ optimizer `tf.keras.optimizers.Adam` runs slowly on M1/M2 Macs, please use the legacy Keras optimizer instead, located at `tf.keras.optimizers.legacy.Adam`.\n",
      "/Library/Frameworks/Python.framework/Versions/3.11/lib/python3.11/site-packages/keras/src/initializers/initializers.py:120: UserWarning: The initializer RandomUniform is unseeded and being called multiple times, which will return identical values each time (even if the initializer is unseeded). Please update your code to provide a seed to the initializer, or avoid using the same initializer instance more than once.\n",
      "  warnings.warn(\n"
     ]
    },
    {
     "name": "stdout",
     "output_type": "stream",
     "text": [
      "Restoring model weights from the end of the best epoch: 15.\n",
      "Epoch 25: early stopping\n",
      "Train Acc: 0.9917166829109192 Test Acc: 0.9677000045776367\n"
     ]
    }
   ],
   "source": [
    "init = tf.keras.initializers.random_uniform()\n",
    "activate = 'relu'\n",
    "\n",
    "optimizer = tf.keras.optimizers.Adam(learning_rate=0.01)\n",
    "model_bn_adam = simple_model_bn(init, activate)\n",
    "model_bn_adam.compile(optimizer=optimizer, loss='categorical_crossentropy', metrics=['accuracy'])\n",
    "\n",
    "es = EarlyStopping(monitor='val_loss', mode='min', patience=10, restore_best_weights=True, verbose=1)\n",
    "\n",
    "history = model_bn_adam.fit(X_train, y_train, epochs=2000, callbacks=[es], validation_data = (X_test, y_test), verbose=0)\n",
    "\n",
    "_, train_acc = model_bn_adam.evaluate(X_train, y_train, verbose=0)\n",
    "_, test_acc = model_bn_adam.evaluate(X_test, y_test, verbose=0)\n",
    "print('Train Acc:', train_acc, 'Test Acc:', test_acc)"
   ]
  }
 ],
 "metadata": {
  "kernelspec": {
   "display_name": "Python 3",
   "language": "python",
   "name": "python3"
  },
  "language_info": {
   "codemirror_mode": {
    "name": "ipython",
    "version": 3
   },
   "file_extension": ".py",
   "mimetype": "text/x-python",
   "name": "python",
   "nbconvert_exporter": "python",
   "pygments_lexer": "ipython3",
   "version": "3.11.3"
  },
  "orig_nbformat": 4
 },
 "nbformat": 4,
 "nbformat_minor": 2
}
